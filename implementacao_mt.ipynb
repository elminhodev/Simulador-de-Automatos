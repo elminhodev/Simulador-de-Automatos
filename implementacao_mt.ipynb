{
  "nbformat": 4,
  "nbformat_minor": 0,
  "metadata": {
    "colab": {
      "provenance": [],
      "authorship_tag": "ABX9TyNuyD9of4Hpk/8IGG7QE69j",
      "include_colab_link": true
    },
    "kernelspec": {
      "name": "python3",
      "display_name": "Python 3"
    },
    "language_info": {
      "name": "python"
    }
  },
  "cells": [
    {
      "cell_type": "markdown",
      "metadata": {
        "id": "view-in-github",
        "colab_type": "text"
      },
      "source": [
        "<a href=\"https://colab.research.google.com/github/elminhodev/Simulador-de-Automatos/blob/main/implementacao_mt.ipynb\" target=\"_parent\"><img src=\"https://colab.research.google.com/assets/colab-badge.svg\" alt=\"Open In Colab\"/></a>"
      ]
    },
    {
      "cell_type": "code",
      "execution_count": 11,
      "metadata": {
        "id": "44F2svlEK8jJ"
      },
      "outputs": [],
      "source": [
        "import json\n",
        "from typing import Dict, List\n",
        "\n",
        "def load_spec(path: str):\n",
        "    with open(path, 'r', encoding='utf-8') as f:\n",
        "        spec = json.load(f)\n",
        "    for k in (\"initial\", \"final\", \"white\", \"transitions\"):\n",
        "        if k not in spec:\n",
        "            raise ValueError(f\"Spec faltando chave '{k}'\")\n",
        "    return spec\n",
        "\n",
        "def load_input(path: str, white: str):\n",
        "    with open(path, 'r', encoding='utf-8') as f:\n",
        "        data = f.read()\n",
        "    if data.endswith('\\n'):\n",
        "        data = data.rstrip('\\n')\n",
        "    if data == \"\":\n",
        "        return white\n",
        "    return data\n",
        "\n",
        "def build_transition_map(transitions: List[Dict]):\n",
        "    tmap = {}\n",
        "    for t in transitions:\n",
        "        key = (int(t['from']), t['read'])\n",
        "        entry = (int(t['to']), t['write'], t['dir'])\n",
        "        tmap.setdefault(key, []).append(entry)\n",
        "    return tmap\n",
        "\n",
        "def tape_to_str(tape: Dict[int,str], white: str) -> str:\n",
        "    if not tape:\n",
        "        return white\n",
        "    min_i = min(tape.keys())\n",
        "    max_i = max(tape.keys())\n",
        "    s = ''.join(tape.get(i, white) for i in range(min_i, max_i+1))\n",
        "    # corta espaços em branco das extremidades\n",
        "    left, right = 0, len(s)\n",
        "    while left < right and s[left] == white:\n",
        "        left += 1\n",
        "    while right > left and s[right-1] == white:\n",
        "        right -= 1\n",
        "    trimmed = s[left:right]\n",
        "    return trimmed if trimmed != \"\" else white\n",
        "\n",
        "def run_tm(spec_path: str, input_path: str, output_path: str = \"output.txt\"):\n",
        "    spec = load_spec(spec_path)\n",
        "    white = spec['white']\n",
        "    input_str = load_input(input_path, white)\n",
        "\n",
        "    # inicializa a fita\n",
        "    tape: Dict[int,str] = {}\n",
        "    for i, ch in enumerate(input_str):\n",
        "        tape[i] = ch\n",
        "\n",
        "    head = 0\n",
        "    state = int(spec['initial'])\n",
        "    finals = set(int(x) for x in spec['final'])\n",
        "    tmap = build_transition_map(spec['transitions'])\n",
        "\n",
        "    steps = 0\n",
        "    while True:\n",
        "        if state in finals:\n",
        "            out_tape = tape_to_str(tape, white)\n",
        "            with open(output_path, 'w', encoding='utf-8') as f:\n",
        "                f.write(out_tape)\n",
        "            print(\"1\")  # aceita\n",
        "            return 1\n",
        "\n",
        "        sym = tape.get(head, white)\n",
        "        key = (state, sym)\n",
        "        trans_list = tmap.get(key, [])\n",
        "\n",
        "        if not trans_list:\n",
        "            out_tape = tape_to_str(tape, white)\n",
        "            with open(output_path, 'w', encoding='utf-8') as f:\n",
        "                f.write(out_tape)\n",
        "            print(\"0\")  # rejeita\n",
        "            return 0\n",
        "\n",
        "        to_state, write_sym, direction = trans_list[0]\n",
        "\n",
        "        if write_sym == white:\n",
        "            if head in tape and tape[head] != white:\n",
        "                del tape[head]\n",
        "        else:\n",
        "            tape[head] = write_sym\n",
        "\n",
        "        if direction.upper() == 'R':\n",
        "            head += 1\n",
        "        elif direction.upper() == 'L':\n",
        "            head -= 1\n",
        "        else:\n",
        "            raise ValueError(f\"Direção inválida: {direction}\")\n",
        "\n",
        "        state = int(to_state)\n",
        "        steps += 1\n",
        "        # opcional: proteger contra loops infinitos\n",
        "        # if steps > 1000000:\n",
        "        #     print(\"0\")\n",
        "        #     return 0\n"
      ]
    },
    {
      "cell_type": "code",
      "source": [
        "run_tm(\"/content/duplo_bal.json\", \"/content/duplobal.in\", \"/content/saida.txt\")"
      ],
      "metadata": {
        "colab": {
          "base_uri": "https://localhost:8080/"
        },
        "id": "cOJXa9X3M4UM",
        "outputId": "876f4619-e6b9-4d9c-c9b1-4f0f7ac5427d"
      },
      "execution_count": 14,
      "outputs": [
        {
          "output_type": "stream",
          "name": "stdout",
          "text": [
            "1\n"
          ]
        },
        {
          "output_type": "execute_result",
          "data": {
            "text/plain": [
              "1"
            ]
          },
          "metadata": {},
          "execution_count": 14
        }
      ]
    }
  ]
}