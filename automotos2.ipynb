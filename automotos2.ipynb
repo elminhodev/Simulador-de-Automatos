{
  "nbformat": 4,
  "nbformat_minor": 0,
  "metadata": {
    "colab": {
      "provenance": [],
      "authorship_tag": "ABX9TyPgMd2cm/Zv4SEiaeaPNiFi",
      "include_colab_link": true
    },
    "kernelspec": {
      "name": "python3",
      "display_name": "Python 3"
    },
    "language_info": {
      "name": "python"
    }
  },
  "cells": [
    {
      "cell_type": "markdown",
      "metadata": {
        "id": "view-in-github",
        "colab_type": "text"
      },
      "source": [
        "<a href=\"https://colab.research.google.com/github/elminhodev/Simulador-de-Automatos/blob/main/automotos2.ipynb\" target=\"_parent\"><img src=\"https://colab.research.google.com/assets/colab-badge.svg\" alt=\"Open In Colab\"/></a>"
      ]
    },
    {
      "cell_type": "code",
      "execution_count": null,
      "metadata": {
        "id": "akeiHGvvq82H"
      },
      "outputs": [],
      "source": [
        "import json"
      ]
    },
    {
      "cell_type": "code",
      "source": [
        "import csv"
      ],
      "metadata": {
        "id": "Pvil55GjrF1f"
      },
      "execution_count": null,
      "outputs": []
    },
    {
      "cell_type": "code",
      "source": [
        "import time"
      ],
      "metadata": {
        "id": "YhdgoYA7rHi_"
      },
      "execution_count": null,
      "outputs": []
    },
    {
      "cell_type": "code",
      "source": [
        "def carregar_automato(nome_arquivo):\n",
        "    with open(nome_arquivo, 'r') as f:\n",
        "        data = json.load(f)\n",
        "    inicial = data[\"initial\"]\n",
        "    finais = set(data[\"final\"])\n",
        "    transicoes = {}\n",
        "    for t in data[\"transitions\"]:\n",
        "        origem = t[\"from\"]\n",
        "        simbolo = t[\"read\"]  # pode ser None\n",
        "        destino = t[\"to\"]\n",
        "        transicoes.setdefault(origem, {}).setdefault(simbolo, []).append(destino)\n",
        "    return inicial, finais, transicoes\n",
        "\n",
        "def epsilon_closure(estados, transicoes):\n",
        "    pilha = list(estados)\n",
        "    closure = set(estados)\n",
        "    while pilha:\n",
        "        estado = pilha.pop()\n",
        "        for prox in transicoes.get(estado, {}).get(None, []):\n",
        "            if prox not in closure:\n",
        "                closure.add(prox)\n",
        "                pilha.append(prox)\n",
        "    return closure\n",
        "\n",
        "def simular_automato(inicial, finais, transicoes, palavra):\n",
        "    estados_atuais = epsilon_closure({inicial}, transicoes)\n",
        "    for simbolo in palavra:\n",
        "        proximos_estados = set()\n",
        "        for estado in estados_atuais:\n",
        "            for destino in transicoes.get(estado, {}).get(simbolo, []):\n",
        "                proximos_estados.update(epsilon_closure({destino}, transicoes))\n",
        "        estados_atuais = proximos_estados\n",
        "    return any(estado in finais for estado in estados_atuais)\n",
        "\n",
        "def executar_simulador():\n",
        "    inicial, finais, transicoes = carregar_automato(\"ex3_naodeterministico.aut\")\n",
        "    with open(\"ex3_naodeterministico_input.in\", 'r') as f_in, open(\"ex3_naodeterministico_input.out\", 'w') as f_out:\n",
        "        leitor = csv.reader(f_in, delimiter=';')\n",
        "        for linha in leitor:\n",
        "            palavra, esperado = linha[0], int(linha[1])\n",
        "            inicio = time.time()\n",
        "            obtido = int(simular_automato(inicial, finais, transicoes, palavra))\n",
        "            tempo = round(time.time() - inicio, 3)\n",
        "            f_out.write(f\"{palavra};{esperado};{obtido};{tempo}\\n\")\n",
        "\n",
        "executar_simulador()\n",
        "\n",
        "with open(\"ex3_naodeterministico_input.out\", \"r\") as f:\n",
        "    print(f.read())\n"
      ],
      "metadata": {
        "colab": {
          "base_uri": "https://localhost:8080/"
        },
        "id": "EDCUGAKErIF-",
        "outputId": "e5256aca-2bc4-47ee-d580-cc4af09d88bb"
      },
      "execution_count": null,
      "outputs": [
        {
          "output_type": "stream",
          "name": "stdout",
          "text": [
            "b;1;1;0.0\n",
            "aab;1;1;0.0\n",
            "ab;1;1;0.0\n",
            "aaaab;1;1;0.0\n",
            "a;0;0;0.0\n",
            ";0;0;0.0\n",
            "aa;0;0;0.0\n",
            "bb;0;0;0.0\n",
            "\n"
          ]
        }
      ]
    }
  ]
}